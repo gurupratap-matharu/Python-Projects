{
 "cells": [
  {
   "cell_type": "code",
   "execution_count": null,
   "metadata": {},
   "outputs": [],
   "source": [
    "import folium, pandas\n",
    "import webbrowser \n",
    "\n",
    "data = pandas.read_csv(\"Volcanoes.txt\")\n",
    "lat = list(data[\"LAT\"])\n",
    "lon = list(data[\"LON\"])\n",
    "elev = list(data[\"ELEV\"])\n",
    "\n",
    "\n",
    "map = folium.Map(location=[38.58, -99.09], zoom_start=6, tiles=\"MapBox Bright\")\n",
    "\n",
    "fg = folium.FeatureGroup(\"name=MyMap\")\n",
    "\n",
    "for lat, lon, elev in zip(lat, lon, elev):\n",
    "\tfg.add_child(folium.Marker(location=[lat,lon], popup = str(elev), icon=folium.Icon(color=\"green\")))\n",
    "\tprint(lat, long, elev)\n",
    "map.add_child(fg)\n",
    "\n",
    "map.save(\"Map1.html\")\n",
    "webbrowser.open(\"Map1.html\")\n"
   ]
  }
 ],
 "metadata": {
  "kernelspec": {
   "display_name": "Python 3",
   "language": "python",
   "name": "python3"
  },
  "language_info": {
   "codemirror_mode": {
    "name": "ipython",
    "version": 3
   },
   "file_extension": ".py",
   "mimetype": "text/x-python",
   "name": "python",
   "nbconvert_exporter": "python",
   "pygments_lexer": "ipython3",
   "version": "3.6.5"
  }
 },
 "nbformat": 4,
 "nbformat_minor": 2
}
